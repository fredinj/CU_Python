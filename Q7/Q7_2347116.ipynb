{
 "cells": [
  {
   "cell_type": "code",
   "execution_count": 121,
   "metadata": {},
   "outputs": [],
   "source": [
    "import numpy as np"
   ]
  },
  {
   "cell_type": "code",
   "execution_count": 46,
   "metadata": {},
   "outputs": [],
   "source": [
    "data_type=[(\"Emp_Id\",\"i8\"),(\"Last_Name\",\"U16\"),(\"First_Name\",\"U18\"),(\"Gender\",\"U2\"),(\"Title\",\"U32\")]\n",
    "\n",
    "emp =np.array([\n",
    "    (1000, \"Torbati\", \"Yolanda\", 'F', \"Programmer\"),\n",
    "    (1001, \"Kleinn\", \"Joel\", 'M', \"Programmer\"),\n",
    "    (1002, \"Ginsburg\", \"Laura\", 'F', \"President\"),\n",
    "    (1003, \"Cox\", \"Jennifer\", 'F', \"President\"),\n",
    "    (1005, \"Ziada\", \"Mauri\", 'M', \"Product Designer\"),\n",
    "    (1006, \"Keyser\", \"Cara\", 'F', \"Account Executive\"),\n",
    "    (1010, \"Smith\", \"Roxie\", 'M', \"Programmer\"),\n",
    "    (1011, \"Nelson\", \"Robert\", 'M', \"Programmer\"),\n",
    "    (1012, \"Sachsen\", \"Lars\", 'M', \"Support Technician\"),\n",
    "    (1013, \"Shannon\", \"Don\", 'M', \"Product Designer\"),\n",
    "], dtype=data_type)\n",
    "\n",
    "# emp"
   ]
  },
  {
   "cell_type": "markdown",
   "metadata": {},
   "source": [
    "Number of male employees"
   ]
  },
  {
   "cell_type": "code",
   "execution_count": 45,
   "metadata": {},
   "outputs": [
    {
     "name": "stdout",
     "output_type": "stream",
     "text": [
      "There are 6 male employees.\n"
     ]
    }
   ],
   "source": [
    "print(f\"There are {len(emp[emp['Gender'] == 'M'])} male employees.\")"
   ]
  },
  {
   "cell_type": "markdown",
   "metadata": {},
   "source": [
    "Employees whose last name starts with S"
   ]
  },
  {
   "cell_type": "code",
   "execution_count": 105,
   "metadata": {},
   "outputs": [
    {
     "data": {
      "text/plain": [
       "array([(1010, 'Smith', 'Roxie', 'M', 'Programmer'),\n",
       "       (1012, 'Sachsen', 'Lars', 'M', 'Support Technician'),\n",
       "       (1013, 'Shannon', 'Don', 'M', 'Product Designer')],\n",
       "      dtype=[('Emp_Id', '<i8'), ('Last_Name', '<U16'), ('First_Name', '<U18'), ('Gender', '<U2'), ('Title', '<U32')])"
      ]
     },
     "execution_count": 105,
     "metadata": {},
     "output_type": "execute_result"
    }
   ],
   "source": [
    "mask = [name.startswith('S') for name in emp[\"Last_Name\"]]\n",
    "emp[mask]"
   ]
  },
  {
   "cell_type": "markdown",
   "metadata": {},
   "source": [
    "Female employees sorted by descending order of last name"
   ]
  },
  {
   "cell_type": "code",
   "execution_count": 104,
   "metadata": {},
   "outputs": [
    {
     "name": "stdout",
     "output_type": "stream",
     "text": [
      "[(1000, 'Torbati', 'Yolanda', 'F', 'Programmer')\n",
      " (1002, 'Ginsburg', 'Laura', 'F', 'President')\n",
      " (1003, 'Cox', 'Jennifer', 'F', 'President')\n",
      " (1006, 'Keyser', 'Cara', 'F', 'Account Executive')]\n"
     ]
    }
   ],
   "source": [
    "female_emp = np.array(emp[emp['Gender'] == 'F'],dtype=data_type)\n",
    "female = np.where(emp[\"Gender\"] == 'F')[0]\n",
    "sorted_f = female[np.argsort(emp[\"First_Name\"][female])][::-1]\n",
    "sorted_female_employees = emp[sorted_f]\n",
    "\n",
    "print(sorted_female_employees)\n"
   ]
  },
  {
   "cell_type": "markdown",
   "metadata": {},
   "source": [
    "slicing\n"
   ]
  },
  {
   "cell_type": "code",
   "execution_count": 126,
   "metadata": {},
   "outputs": [
    {
     "name": "stdout",
     "output_type": "stream",
     "text": [
      "1002\tGinsburg\t\tF\n",
      "1003\tCox\t\tF\n",
      "1005\tZiada\t\tM\n",
      "1006\tKeyser\t\tF\n",
      "1010\tSmith\t\tM\n",
      "1011\tNelson\t\tM\n",
      "1012\tSachsen\t\tM\n"
     ]
    }
   ],
   "source": [
    "subset = emp[2:9]\n",
    "for row in subset:\n",
    "    emp_id, last_name, gender = row[\"Emp_Id\"], row[\"Last_Name\"], row[\"Gender\"]\n",
    "    print(f\"{emp_id}\\t{last_name}\\t\\t{gender}\")\n"
   ]
  }
 ],
 "metadata": {
  "kernelspec": {
   "display_name": "Python 3",
   "language": "python",
   "name": "python3"
  },
  "language_info": {
   "codemirror_mode": {
    "name": "ipython",
    "version": 3
   },
   "file_extension": ".py",
   "mimetype": "text/x-python",
   "name": "python",
   "nbconvert_exporter": "python",
   "pygments_lexer": "ipython3",
   "version": "3.10.11"
  },
  "orig_nbformat": 4
 },
 "nbformat": 4,
 "nbformat_minor": 2
}
