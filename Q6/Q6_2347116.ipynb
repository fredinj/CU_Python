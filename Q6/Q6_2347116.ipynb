{
 "cells": [
  {
   "cell_type": "code",
   "execution_count": 1,
   "metadata": {},
   "outputs": [
    {
     "name": "stdout",
     "output_type": "stream",
     "text": [
      "\n",
      "Thank you for registering\n"
     ]
    }
   ],
   "source": [
    "import re\n",
    "\n",
    "def form():\n",
    "    name=input(\"Enter your name: \")\n",
    "    while(not re.match('^[A-Za-z]+\\s?[A-Za-z]*?$',name)):\n",
    "        name=input(\"Enter your name: \")\n",
    "\n",
    "    reg_no=input(\"Enter your register number: \")\n",
    "    while(not re.match('^[0-9]+$',reg_no)):\n",
    "        reg_no=input(\"Enter your register number: \")\n",
    "\n",
    "    email=input(\"Enter your email: \")\n",
    "    while(not re.match('^[a-zA-Z0-9_.%+-]+@[a-zA-Z0-9_.]+\\.[a-zA-Z]{2,7}$',email)):\n",
    "        email=input(\"Enter your email: \")\n",
    "\n",
    "    phone_no=input(\"Enter your phone number: \")\n",
    "    while(not re.match('^(\\+?[0-9]{1,3}\\s?)?[0-9]{10}$',phone_no)):\n",
    "        phone_no=input(\"Enter your phone number: \")\n",
    "\n",
    "    dob=input(\"Enter your DOB in dd/mm/yyyy format: \")\n",
    "    while(not re.match('^(0[1-9]|[12][1-9]|3[01])[ /.-](0[1-9]|1[12])[ /.-]((19|20)[0-9]{2})$',dob)):\n",
    "        dob=input(\"Enter your DOB in dd/mm/yyyy format: \")\n",
    "\n",
    "    card_no=input(\"Enter you debit/credit card number: \")\n",
    "    while(not re.match('^[0-9]{4}[ -]?[0-9]{4}[ -]?[0-9]{4}[ -]?[0-9]{4}$',card_no)):\n",
    "        card_no=input(\"Enter you debit/credit card number: \")\n",
    "\n",
    "form()\n",
    "print(\"\\nThank you for registering\")"
   ]
  }
 ],
 "metadata": {
  "kernelspec": {
   "display_name": "Python 3",
   "language": "python",
   "name": "python3"
  },
  "language_info": {
   "codemirror_mode": {
    "name": "ipython",
    "version": 3
   },
   "file_extension": ".py",
   "mimetype": "text/x-python",
   "name": "python",
   "nbconvert_exporter": "python",
   "pygments_lexer": "ipython3",
   "version": "3.11.4"
  },
  "orig_nbformat": 4
 },
 "nbformat": 4,
 "nbformat_minor": 2
}
