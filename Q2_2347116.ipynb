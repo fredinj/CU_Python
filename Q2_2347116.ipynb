{
 "cells": [
  {
   "cell_type": "code",
   "execution_count": 11,
   "metadata": {},
   "outputs": [
    {
     "name": "stdout",
     "output_type": "stream",
     "text": [
      "\n",
      "There are 38 numbers in the list divisible by 3:\n",
      " [3, 6, 9, 12, 15, 18, 21, 24, 27, 30, 33, 36, 39, 42, 45, 48, 51, 54, 57, 60, 63, 66, 69, 72, 75, 78, 81, 84, 87, 90, 93, 96, 99, 45, 24, 54, 99, 21]\n",
      "\n",
      "Squares of 54 even numbers:\n",
      " [4, 16, 36, 64, 100, 144, 196, 256, 324, 400, 484, 576, 676, 784, 900, 1024, 1156, 1296, 1444, 1600, 1764, 1936, 2116, 2304, 2500, 2704, 2916, 3136, 3364, 3600, 3844, 4096, 4356, 4624, 4900, 5184, 5476, 5776, 6084, 6400, 6724, 7056, 7396, 7744, 8100, 8464, 8836, 9216, 9604, 10000, 484, 576, 2916, 4624]\n",
      "\n",
      "Sum of all even numbers in the list =  2718\n",
      "\n",
      "Original List:\n",
      " [1, 2, 3, 4, 5, 6, 7, 8, 9, 10, 11, 12, 13, 14, 15, 16, 17, 18, 19, 20, 21, 22, 23, 24, 25, 26, 27, 28, 29, 30, 31, 32, 33, 34, 35, 36, 37, 38, 39, 40, 41, 42, 43, 44, 45, 46, 47, 48, 49, 50, 51, 52, 53, 54, 55, 56, 57, 58, 59, 60, 61, 62, 63, 64, 65, 66, 67, 68, 69, 70, 71, 72, 73, 74, 75, 76, 77, 78, 79, 80, 81, 82, 83, 84, 85, 86, 87, 88, 89, 90, 91, 92, 93, 94, 95, 96, 97, 98, 99, 100, 22, 45, 65, 24, 54, 68, 99, 21]\n",
      "\n",
      "Duplicates Removed:\n",
      " [1, 2, 3, 4, 5, 6, 7, 8, 9, 10, 11, 12, 13, 14, 15, 16, 17, 18, 19, 20, 21, 22, 23, 24, 25, 26, 27, 28, 29, 30, 31, 32, 33, 34, 35, 36, 37, 38, 39, 40, 41, 42, 43, 44, 45, 46, 47, 48, 49, 50, 51, 52, 53, 54, 55, 56, 57, 58, 59, 60, 61, 62, 63, 64, 65, 66, 67, 68, 69, 70, 71, 72, 73, 74, 75, 76, 77, 78, 79, 80, 81, 82, 83, 84, 85, 86, 87, 88, 89, 90, 91, 92, 93, 94, 95, 96, 97, 98, 99, 100] \n",
      "\n",
      "\n"
     ]
    }
   ],
   "source": [
    "## 1 - List Comprehension\n",
    "\n",
    "li=[i for i in range(1,101)]\n",
    "li.extend([22,45,65,24,54,68,99,21])\n",
    "\n",
    "by3=[i for i in li if i%3==0]\n",
    "print(\"\\nThere are\",len(by3),\"numbers in the list divisible by 3:\\n\",by3)\n",
    "\n",
    "sq=[i**2 for i in li if i%2==0]\n",
    "print(\"\\nSquares of\",len(sq),\"even numbers:\\n\",sq)\n",
    "\n",
    "s=sum([i for i in li if i%2==0])\n",
    "print(\"\\nSum of all even numbers in the list = \",s)\n",
    "\n",
    "print(\"\\nOriginal List:\\n\",li)\n",
    "li=list(set(li))\n",
    "print(\"\\nDuplicates Removed:\\n\",li,\"\\n\\n\")"
   ]
  },
  {
   "cell_type": "code",
   "execution_count": 13,
   "metadata": {},
   "outputs": [],
   "source": [
    "## 2 - Witcher books and their release dates\n",
    "\n",
    "witcher={\"The Last Wish\":\"21 December 2000\",\"Sword of Destiny\":\"20 December 2001\",\"Blood of Elves\":\"19 December 2002\",\"Time of Contempt\":\"30 October 2005\",\n",
    "\"Baptism of Fire\":\"18 January 2006\",\"The Tower of Swallow\":\"15 April 2007\",\"The Lady of the Lake\":\"April 1 2008\",\"Season of Storms\":\"April 28 2010\"}\n",
    "\n",
    "def releaseDate(name):\n",
    "    print(name,\"was released in\",witcher[name],\"\\n\")"
   ]
  },
  {
   "cell_type": "code",
   "execution_count": 15,
   "metadata": {},
   "outputs": [
    {
     "name": "stdout",
     "output_type": "stream",
     "text": [
      "The Last Wish was released in 21 December 2000 \n",
      "\n"
     ]
    }
   ],
   "source": [
    "releaseDate(\"The Last Wish\")"
   ]
  }
 ],
 "metadata": {
  "kernelspec": {
   "display_name": "Python 3",
   "language": "python",
   "name": "python3"
  },
  "language_info": {
   "codemirror_mode": {
    "name": "ipython",
    "version": 3
   },
   "file_extension": ".py",
   "mimetype": "text/x-python",
   "name": "python",
   "nbconvert_exporter": "python",
   "pygments_lexer": "ipython3",
   "version": "3.10.2"
  },
  "orig_nbformat": 4
 },
 "nbformat": 4,
 "nbformat_minor": 2
}
